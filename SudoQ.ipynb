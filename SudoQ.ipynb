{
 "cells": [
  {
   "cell_type": "markdown",
   "metadata": {},
   "source": [
    "# SudoQus\n",
    "\n",
    "En este proyecto se plantea resolver un puzzle tipo Sudoku utilizando el algoritmo cuántico de búsqueda Grover. Para tratar de resolver este reto, hemos optado por dividir el trabajo en tareas más pequeñas y asequibles.\n",
    "\n",
    "## 1. IMPORTAMOS LIBRERÍAS:\n",
    "\n",
    "Lo primero que necesitamos es importar las librerías que necesitaremos para trabajar."
   ]
  },
  {
   "cell_type": "code",
   "execution_count": 18,
   "metadata": {},
   "outputs": [],
   "source": [
    "from qiskit import *                                    # Imports we need for our project\n",
    "from qiskit import IBMQ                                 # We will also be simulating in an IBM computer\n",
    "from qiskit.tools.visualization import plot_histogram\n",
    "import numpy as np \n",
    "import itertools\n",
    "import operator\n",
    "%matplotlib inline"
   ]
  },
  {
   "cell_type": "markdown",
   "metadata": {},
   "source": [
    "## 2. DEFINICIÓN SISTEMA CUÁNTICO:\n",
    "A continuación creamos el objeto circuito con un número de qubits igual al doble de casillas vacías."
   ]
  },
  {
   "cell_type": "code",
   "execution_count": 12,
   "metadata": {},
   "outputs": [
    {
     "data": {
      "text/plain": [
       "<qiskit.circuit.instructionset.InstructionSet at 0x1a2e7b6f10>"
      ]
     },
     "execution_count": 12,
     "metadata": {},
     "output_type": "execute_result"
    }
   ],
   "source": [
    "nQbits = 8;                        # Number of qubit of our circuit\n",
    "q      = QuantumRegister(nQbits)   # List of qubits\n",
    "c      = ClassicalRegister(nQbits) # List of classical bits \n",
    "qc     = QuantumCircuit(q,c)       # Creation of our circuit"
   ]
  },
  {
   "cell_type": "markdown",
   "metadata": {},
   "source": [
    "Insertamos una puerta hadamard sobre todos los qubits para crear un estado en superposición con todas las posibles soluciones que satisfacen nuestro sistema inicial."
   ]
  },
  {
   "cell_type": "code",
   "execution_count": null,
   "metadata": {},
   "outputs": [],
   "source": [
    "qc.h(range(nQbits))                # Insert a hadamard gate in each qubit to create the superposition "
   ]
  },
  {
   "cell_type": "markdown",
   "metadata": {},
   "source": [
    "Nuestro planteamiento consistirá en incrementar gradualmente la población del estado que corresponda al sudoku resuelto. Para ello se utiliza un algoritmo tipo grover. Grover se fundamenta en dos secciones, un oráculo que invierte el signo del estado correcto y un reflector o modulo de difusión que suaviza la soluciones expureas. Iterando sobre este algoritmo conseguimos que el estado solución destaque frente al resto de estados considerados."
   ]
  },
  {
   "cell_type": "markdown",
   "metadata": {},
   "source": [
    "## 3. GROVER + REFLECTOR:"
   ]
  },
  {
   "cell_type": "markdown",
   "metadata": {},
   "source": [
    "### 3.1 Metodos auxiliares"
   ]
  },
  {
   "cell_type": "markdown",
   "metadata": {},
   "source": [
    "En el approch que estamos considerando aplicamos el algoritmo grover sobre cada fila, columna y cuadrante, combinando los resultados que generna cada parte."
   ]
  },
  {
   "cell_type": "markdown",
   "metadata": {},
   "source": [
    "Las siguientes funciones las utilizamos para generar el conjunto de solciones superpuestas en cada fila/columna. Primero geenramos todas las permutaciones congruentes con los digitos prefijados en cada fila/columna/cuadrante y posteriormente pasamos el resultado a binario para poder exportarlo a qubits."
   ]
  },
  {
   "cell_type": "code",
   "execution_count": 13,
   "metadata": {},
   "outputs": [],
   "source": [
    "# Function that creates a list of of the possible permutations given the number(s) we do not want to consider \n",
    "def per_gen(classicalB):\n",
    "    aux      = [0, 1, 2, 3]                             # All the values we consider to be possible\n",
    "    list_out = []\n",
    "    for i in aux:\n",
    "        if i not in classicalB:                         # Ex: if classicalB=[0,1] and i=2 then we will write a 2 in our list_out\n",
    "            list_out.append(i)\n",
    "    list_out_2 = list(itertools.permutations(list_out)) # We create the permutations with the filtered numbers\n",
    "    return list_out_2\n",
    "\n",
    "#---------------------------------------------------------------------------------------------------------------------#\n",
    "\n",
    "# Function that converts a list of permutations into its binary values. Ex: [1,2,3] -> ['011011']\n",
    "def qbit_to_binary(perm):\n",
    "    perm_bin = []\n",
    "    for item in list(perm):\n",
    "        binary_num = \"\"\n",
    "        for i in item:\n",
    "            prm_b = format(i,\"b\")\n",
    "            if len(prm_b)==1:                  # If the length of the binary number is 1 we add a 0 to the left to have a constant length of 2\n",
    "                prm_b = '0' + prm_b\n",
    "            binary_num = binary_num + prm_b\n",
    "        perm_bin.append(binary_num)\n",
    "    return perm_bin"
   ]
  },
  {
   "cell_type": "markdown",
   "metadata": {},
   "source": [
    "### 3.2 Oraculo y Reflector"
   ]
  },
  {
   "cell_type": "markdown",
   "metadata": {},
   "source": [
    "Definimos los modulos oraculo y reflectos. Los oraculos se genran combinando oraculos independientes para cada conjunto de estados que queremos detectar en cada fila/columna. \n",
    "\n",
    "\n",
    "El modulo de difusión se geenra a partir de la secuencia Hadamard, puerta X, z controll para todas las celda, puerta x y hadamard."
   ]
  },
  {
   "cell_type": "code",
   "execution_count": null,
   "metadata": {},
   "outputs": [],
   "source": [
    "# Function that creates an adapted oracle to the given list of qubits and list of known numbers in some row/column/block\n",
    "def oracle(qc, l_qbits, l_perm_bin):\n",
    "    for item in l_perm_bin:\n",
    "        cont = 0                                            # Add the necessary X gates at the beginning of the oracle when the value of the char=0\n",
    "        for j in item:\n",
    "            if j == '0': \n",
    "                qc.x(l_qbits[cont])\n",
    "            cont+=1\n",
    "        qc.mcrz(-np.pi,l_qbits[1:len(l_qbits)],l_qbits[0])  # Add a Multiple Controlled Z gate\n",
    "        cont = 0\n",
    "        for j in item:                                      # Add the necessary X gates at the end of the oracle when the value of the char=0\n",
    "            if j == '0':\n",
    "                qc.x(l_qbits[cont])\n",
    "            cont+=1\n",
    "    return qc                                               # Return the given circuit modified\n",
    "\n",
    "#---------------------------------------------------------------------------------------------------------------------#\n",
    "\n",
    "# Function that generates a suitable reflector for the list of qubits\n",
    "def reflector(qc, l_qbits):\n",
    "    qc.h(l_qbits)                                      # Add hadamard gates in each qubit \n",
    "    qc.x(l_qbits)                                      # Add X gates in each qubit\n",
    "    qc.mcrz(-np.pi,l_qbits[1:len(l_qbits)],l_qbits[0]) # Add a Multiple Controlled Z gate\n",
    "    qc.x(l_qbits)                                      # Add X gates in each qubit\n",
    "    qc.h(l_qbits)                                      # Add hadamard gates in each qubit\n",
    "    return qc                                          # Return the given circuit modified"
   ]
  },
  {
   "cell_type": "markdown",
   "metadata": {},
   "source": [
    "### 3.3 Algoritmo de Grover"
   ]
  },
  {
   "cell_type": "markdown",
   "metadata": {},
   "source": [
    "Iteramos sobre los oraculos y reflectores definidos para hayar la solución correcta."
   ]
  },
  {
   "cell_type": "code",
   "execution_count": 24,
   "metadata": {},
   "outputs": [],
   "source": [
    "# Function that implements the right ammount of oracles and reflectors to increase the population of the right states\n",
    "def grover(qc,l_qbits, l_bits):    \n",
    "    if len(l_qbits) == 2:           # Decides the number of iterations based on the number of qubits\n",
    "        n_rep = 1\n",
    "    elif len(l_qbits) == 4:\n",
    "        n_rep = 1\n",
    "    else:\n",
    "        n_rep = 2  \n",
    "    perm      = per_gen(l_bits)      # Create the permutation for the given bits\n",
    "    perm_bin  = qbit_to_binary(perm) # Transform the permutation to its binary values\n",
    "    for i in range(n_rep):          # Repeat oracle and reflector n_rep times\n",
    "        oracle(qc,l_qbits,perm_bin)\n",
    "        reflector(qc,[q[0], q[1], q[2], q[3], q[4], q[5], q[6], q[7]])\n",
    "    if len(l_qbits) == 2:           # Final oracle to correct undesired phase\n",
    "        oracle(qc,l_qbits,perm_bin) \n",
    "    return qc                       # Return the given circuit modified\n"
   ]
  },
  {
   "cell_type": "markdown",
   "metadata": {},
   "source": [
    "## 4. SOLUCIÓN PARTICULAR:\n",
    "Definimos nuestro sudoku particular:\n",
    "\n"
   ]
  },
  {
   "cell_type": "code",
   "execution_count": 14,
   "metadata": {},
   "outputs": [
    {
     "name": "stdout",
     "output_type": "stream",
     "text": [
      "['11']\n",
      "['0011', '1100']\n",
      "['0010', '1000']\n",
      "['0010', '1000']\n"
     ]
    },
    {
     "data": {
      "text/plain": [
       "<qiskit.circuit.quantumcircuit.QuantumCircuit at 0x1a2e15f950>"
      ]
     },
     "execution_count": 14,
     "metadata": {},
     "output_type": "execute_result"
    }
   ],
   "source": [
    "#SUDOKU DEFINITION (X : [0,1,2,3]):\n",
    "\n",
    "#  _______\n",
    "#  |X1| 0|\n",
    "#  _______\n",
    "#  |2 | 1|\n",
    "#  _______\n",
    "#  |X2| 3|\n",
    "#  _____________\n",
    "#  |1 |X3| 3|X4|\n",
    "#  _____________\n",
    "\n",
    "grover(qc, [q[0], q[1]], [0, 1, 2])\n",
    "grover(qc, [q[0], q[1], q[2], q[3]], [1, 2])\n",
    "grover(qc, [q[4], q[5], q[6], q[7]], [1, 3])\n",
    "grover(qc, [q[2], q[3], q[4], q[5]], [1, 3])"
   ]
  },
  {
   "cell_type": "markdown",
   "metadata": {},
   "source": [
    "Ejecución de la solución particular que hemos definido:"
   ]
  },
  {
   "cell_type": "code",
   "execution_count": 22,
   "metadata": {
    "scrolled": true
   },
   "outputs": [],
   "source": [
    "# Execute in a local backend\n",
    "qc.measure(q, c)\n",
    "backend = Aer.get_backend('qasm_simulator')\n",
    "result  = execute(qc, backend = backend, shots = 2048*128).result()\n",
    "counts  = result.get_counts()"
   ]
  },
  {
   "cell_type": "markdown",
   "metadata": {},
   "source": [
    "## 5. INTERPRETACIÓN DE LA SOLUCIÓN"
   ]
  },
  {
   "cell_type": "markdown",
   "metadata": {},
   "source": [
    "Nos quedamos con las top 5 soluciones. Aquella solcuión con mayor número de cuentas corresponde con la solución del suduku:"
   ]
  },
  {
   "cell_type": "code",
   "execution_count": 27,
   "metadata": {},
   "outputs": [
    {
     "name": "stdout",
     "output_type": "stream",
     "text": [
      "[('11100011', 6184), ('00110011', 6188), ('00000011', 6210), ('01000011', 6769), ('00010011', 10394)]\n"
     ]
    }
   ],
   "source": [
    "sorted_x = sorted(counts.items(), key=operator.itemgetter(1))\n",
    "print(sorted_x[-5:])"
   ]
  },
  {
   "cell_type": "markdown",
   "metadata": {},
   "source": [
    "Descodificamos la solución final de binario a lenguaje sudoku: Nuestra solcuión particular tiene 4 incógnitas, cada una de ellas codificada en 2 qubits. Glosario:\n",
    "\n",
    "00 - > 0\n",
    "\n",
    "01 - > 1\n",
    "\n",
    "10 - > 2\n",
    "\n",
    "11 - > 3"
   ]
  },
  {
   "cell_type": "markdown",
   "metadata": {},
   "source": [
    "El resultado se lee en dirección opuesta:\n",
    "## 00010011 => X4 / X3 / X2 / X1 => 0 / 2 / 0 / 3"
   ]
  },
  {
   "cell_type": "code",
   "execution_count": null,
   "metadata": {},
   "outputs": [],
   "source": [
    "#  _______\n",
    "#  |*3| 0|\n",
    "#  _______\n",
    "#  |2 | 1|\n",
    "#  _______\n",
    "#  |*0| 3|\n",
    "#  _____________\n",
    "#  |1 |X*2| 3|*0|\n",
    "#  _____________"
   ]
  }
 ],
 "metadata": {
  "kernelspec": {
   "display_name": "Python 3",
   "language": "python",
   "name": "python3"
  },
  "language_info": {
   "codemirror_mode": {
    "name": "ipython",
    "version": 3
   },
   "file_extension": ".py",
   "mimetype": "text/x-python",
   "name": "python",
   "nbconvert_exporter": "python",
   "pygments_lexer": "ipython3",
   "version": "3.7.4"
  }
 },
 "nbformat": 4,
 "nbformat_minor": 2
}
